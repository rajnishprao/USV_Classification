{
 "cells": [
  {
   "cell_type": "code",
   "execution_count": 12,
   "metadata": {},
   "outputs": [],
   "source": [
    "import pandas as pd"
   ]
  },
  {
   "cell_type": "code",
   "execution_count": 38,
   "metadata": {},
   "outputs": [],
   "source": [
    "df = pd.read_csv('events_146001.csv', sep=',', decimal=',')"
   ]
  },
  {
   "cell_type": "code",
   "execution_count": 39,
   "metadata": {},
   "outputs": [
    {
     "data": {
      "text/html": [
       "<div>\n",
       "<style scoped>\n",
       "    .dataframe tbody tr th:only-of-type {\n",
       "        vertical-align: middle;\n",
       "    }\n",
       "\n",
       "    .dataframe tbody tr th {\n",
       "        vertical-align: top;\n",
       "    }\n",
       "\n",
       "    .dataframe thead th {\n",
       "        text-align: right;\n",
       "    }\n",
       "</style>\n",
       "<table border=\"1\" class=\"dataframe\">\n",
       "  <thead>\n",
       "    <tr style=\"text-align: right;\">\n",
       "      <th></th>\n",
       "      <th>Event_id</th>\n",
       "      <th>Rec_id</th>\n",
       "      <th>event</th>\n",
       "      <th>start_time</th>\n",
       "      <th>end_time</th>\n",
       "      <th>Stimulus_id</th>\n",
       "      <th>side</th>\n",
       "    </tr>\n",
       "  </thead>\n",
       "  <tbody>\n",
       "    <tr>\n",
       "      <th>0</th>\n",
       "      <td>26508</td>\n",
       "      <td>146001</td>\n",
       "      <td>nose touch</td>\n",
       "      <td>1799041.40</td>\n",
       "      <td>1802074.70</td>\n",
       "      <td>1977</td>\n",
       "      <td>R</td>\n",
       "    </tr>\n",
       "    <tr>\n",
       "      <th>1</th>\n",
       "      <td>26507</td>\n",
       "      <td>146001</td>\n",
       "      <td>nose touch</td>\n",
       "      <td>1782908.00</td>\n",
       "      <td>1795508.00</td>\n",
       "      <td>1978</td>\n",
       "      <td>L</td>\n",
       "    </tr>\n",
       "    <tr>\n",
       "      <th>2</th>\n",
       "      <td>26506</td>\n",
       "      <td>146001</td>\n",
       "      <td>nose touch</td>\n",
       "      <td>1769474.70</td>\n",
       "      <td>1780974.70</td>\n",
       "      <td>1978</td>\n",
       "      <td>L</td>\n",
       "    </tr>\n",
       "    <tr>\n",
       "      <th>3</th>\n",
       "      <td>26505</td>\n",
       "      <td>146001</td>\n",
       "      <td>nose touch</td>\n",
       "      <td>1763408.00</td>\n",
       "      <td>1766674.70</td>\n",
       "      <td>1978</td>\n",
       "      <td>L</td>\n",
       "    </tr>\n",
       "    <tr>\n",
       "      <th>4</th>\n",
       "      <td>26504</td>\n",
       "      <td>146001</td>\n",
       "      <td>nose touch</td>\n",
       "      <td>1744374.70</td>\n",
       "      <td>1744608.00</td>\n",
       "      <td>1977</td>\n",
       "      <td>R</td>\n",
       "    </tr>\n",
       "  </tbody>\n",
       "</table>\n",
       "</div>"
      ],
      "text/plain": [
       "   Event_id  Rec_id       event  start_time    end_time  Stimulus_id side\n",
       "0     26508  146001  nose touch  1799041.40  1802074.70         1977    R\n",
       "1     26507  146001  nose touch  1782908.00  1795508.00         1978    L\n",
       "2     26506  146001  nose touch  1769474.70  1780974.70         1978    L\n",
       "3     26505  146001  nose touch  1763408.00  1766674.70         1978    L\n",
       "4     26504  146001  nose touch  1744374.70  1744608.00         1977    R"
      ]
     },
     "execution_count": 39,
     "metadata": {},
     "output_type": "execute_result"
    }
   ],
   "source": [
    "df.head()"
   ]
  },
  {
   "cell_type": "code",
   "execution_count": 40,
   "metadata": {},
   "outputs": [],
   "source": [
    "df['side'].replace({'L': 'R17-M2', 'R': 'R17-M1'}, inplace=True)"
   ]
  },
  {
   "cell_type": "code",
   "execution_count": 41,
   "metadata": {},
   "outputs": [
    {
     "data": {
      "text/html": [
       "<div>\n",
       "<style scoped>\n",
       "    .dataframe tbody tr th:only-of-type {\n",
       "        vertical-align: middle;\n",
       "    }\n",
       "\n",
       "    .dataframe tbody tr th {\n",
       "        vertical-align: top;\n",
       "    }\n",
       "\n",
       "    .dataframe thead th {\n",
       "        text-align: right;\n",
       "    }\n",
       "</style>\n",
       "<table border=\"1\" class=\"dataframe\">\n",
       "  <thead>\n",
       "    <tr style=\"text-align: right;\">\n",
       "      <th></th>\n",
       "      <th>Event_id</th>\n",
       "      <th>Rec_id</th>\n",
       "      <th>event</th>\n",
       "      <th>start_time</th>\n",
       "      <th>end_time</th>\n",
       "      <th>Stimulus_id</th>\n",
       "      <th>side</th>\n",
       "    </tr>\n",
       "  </thead>\n",
       "  <tbody>\n",
       "    <tr>\n",
       "      <th>0</th>\n",
       "      <td>26508</td>\n",
       "      <td>146001</td>\n",
       "      <td>nose touch</td>\n",
       "      <td>1799041.40</td>\n",
       "      <td>1802074.70</td>\n",
       "      <td>1977</td>\n",
       "      <td>R17-M1</td>\n",
       "    </tr>\n",
       "    <tr>\n",
       "      <th>1</th>\n",
       "      <td>26507</td>\n",
       "      <td>146001</td>\n",
       "      <td>nose touch</td>\n",
       "      <td>1782908.00</td>\n",
       "      <td>1795508.00</td>\n",
       "      <td>1978</td>\n",
       "      <td>R17-M2</td>\n",
       "    </tr>\n",
       "    <tr>\n",
       "      <th>2</th>\n",
       "      <td>26506</td>\n",
       "      <td>146001</td>\n",
       "      <td>nose touch</td>\n",
       "      <td>1769474.70</td>\n",
       "      <td>1780974.70</td>\n",
       "      <td>1978</td>\n",
       "      <td>R17-M2</td>\n",
       "    </tr>\n",
       "    <tr>\n",
       "      <th>3</th>\n",
       "      <td>26505</td>\n",
       "      <td>146001</td>\n",
       "      <td>nose touch</td>\n",
       "      <td>1763408.00</td>\n",
       "      <td>1766674.70</td>\n",
       "      <td>1978</td>\n",
       "      <td>R17-M2</td>\n",
       "    </tr>\n",
       "    <tr>\n",
       "      <th>4</th>\n",
       "      <td>26504</td>\n",
       "      <td>146001</td>\n",
       "      <td>nose touch</td>\n",
       "      <td>1744374.70</td>\n",
       "      <td>1744608.00</td>\n",
       "      <td>1977</td>\n",
       "      <td>R17-M1</td>\n",
       "    </tr>\n",
       "  </tbody>\n",
       "</table>\n",
       "</div>"
      ],
      "text/plain": [
       "   Event_id  Rec_id       event  start_time    end_time  Stimulus_id    side\n",
       "0     26508  146001  nose touch  1799041.40  1802074.70         1977  R17-M1\n",
       "1     26507  146001  nose touch  1782908.00  1795508.00         1978  R17-M2\n",
       "2     26506  146001  nose touch  1769474.70  1780974.70         1978  R17-M2\n",
       "3     26505  146001  nose touch  1763408.00  1766674.70         1978  R17-M2\n",
       "4     26504  146001  nose touch  1744374.70  1744608.00         1977  R17-M1"
      ]
     },
     "execution_count": 41,
     "metadata": {},
     "output_type": "execute_result"
    }
   ],
   "source": [
    "df.head()"
   ]
  },
  {
   "cell_type": "code",
   "execution_count": 42,
   "metadata": {},
   "outputs": [],
   "source": [
    "df.to_csv('cleaned_events_146001.csv')"
   ]
  },
  {
   "cell_type": "code",
   "execution_count": null,
   "metadata": {},
   "outputs": [],
   "source": []
  },
  {
   "cell_type": "code",
   "execution_count": null,
   "metadata": {},
   "outputs": [],
   "source": []
  }
 ],
 "metadata": {
  "kernelspec": {
   "display_name": "Python 3",
   "language": "python",
   "name": "python3"
  },
  "language_info": {
   "codemirror_mode": {
    "name": "ipython",
    "version": 3
   },
   "file_extension": ".py",
   "mimetype": "text/x-python",
   "name": "python",
   "nbconvert_exporter": "python",
   "pygments_lexer": "ipython3",
   "version": "3.7.6"
  }
 },
 "nbformat": 4,
 "nbformat_minor": 4
}
