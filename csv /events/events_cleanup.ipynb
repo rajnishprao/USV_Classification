{
 "cells": [
  {
   "cell_type": "code",
   "execution_count": 12,
   "metadata": {},
   "outputs": [],
   "source": [
    "import pandas as pd"
   ]
  },
  {
   "cell_type": "code",
   "execution_count": 50,
   "metadata": {},
   "outputs": [],
   "source": [
    "df = pd.read_csv('events_99002.csv', sep=',', decimal=',')"
   ]
  },
  {
   "cell_type": "code",
   "execution_count": 51,
   "metadata": {},
   "outputs": [
    {
     "data": {
      "text/html": [
       "<div>\n",
       "<style scoped>\n",
       "    .dataframe tbody tr th:only-of-type {\n",
       "        vertical-align: middle;\n",
       "    }\n",
       "\n",
       "    .dataframe tbody tr th {\n",
       "        vertical-align: top;\n",
       "    }\n",
       "\n",
       "    .dataframe thead th {\n",
       "        text-align: right;\n",
       "    }\n",
       "</style>\n",
       "<table border=\"1\" class=\"dataframe\">\n",
       "  <thead>\n",
       "    <tr style=\"text-align: right;\">\n",
       "      <th></th>\n",
       "      <th>Event_id</th>\n",
       "      <th>Rec_id</th>\n",
       "      <th>event</th>\n",
       "      <th>start_time</th>\n",
       "      <th>end_time</th>\n",
       "      <th>Stimulus_id</th>\n",
       "      <th>side</th>\n",
       "    </tr>\n",
       "  </thead>\n",
       "  <tbody>\n",
       "    <tr>\n",
       "      <th>0</th>\n",
       "      <td>42638</td>\n",
       "      <td>99002</td>\n",
       "      <td>whisker overlap</td>\n",
       "      <td>3377957.10</td>\n",
       "      <td>3385890.40</td>\n",
       "      <td>3528</td>\n",
       "      <td>L</td>\n",
       "    </tr>\n",
       "    <tr>\n",
       "      <th>1</th>\n",
       "      <td>42639</td>\n",
       "      <td>99002</td>\n",
       "      <td>whisker overlap</td>\n",
       "      <td>3386557.10</td>\n",
       "      <td>3395557.10</td>\n",
       "      <td>3528</td>\n",
       "      <td>L</td>\n",
       "    </tr>\n",
       "    <tr>\n",
       "      <th>2</th>\n",
       "      <td>42640</td>\n",
       "      <td>99002</td>\n",
       "      <td>whisker overlap</td>\n",
       "      <td>3396957.10</td>\n",
       "      <td>3406990.40</td>\n",
       "      <td>3528</td>\n",
       "      <td>L</td>\n",
       "    </tr>\n",
       "    <tr>\n",
       "      <th>3</th>\n",
       "      <td>42641</td>\n",
       "      <td>99002</td>\n",
       "      <td>whisker overlap</td>\n",
       "      <td>3411490.40</td>\n",
       "      <td>3412257.10</td>\n",
       "      <td>3528</td>\n",
       "      <td>L</td>\n",
       "    </tr>\n",
       "    <tr>\n",
       "      <th>4</th>\n",
       "      <td>42642</td>\n",
       "      <td>99002</td>\n",
       "      <td>whisker overlap</td>\n",
       "      <td>3429357.10</td>\n",
       "      <td>3430090.40</td>\n",
       "      <td>3528</td>\n",
       "      <td>L</td>\n",
       "    </tr>\n",
       "  </tbody>\n",
       "</table>\n",
       "</div>"
      ],
      "text/plain": [
       "   Event_id  Rec_id            event  start_time    end_time  Stimulus_id side\n",
       "0     42638   99002  whisker overlap  3377957.10  3385890.40         3528    L\n",
       "1     42639   99002  whisker overlap  3386557.10  3395557.10         3528    L\n",
       "2     42640   99002  whisker overlap  3396957.10  3406990.40         3528    L\n",
       "3     42641   99002  whisker overlap  3411490.40  3412257.10         3528    L\n",
       "4     42642   99002  whisker overlap  3429357.10  3430090.40         3528    L"
      ]
     },
     "execution_count": 51,
     "metadata": {},
     "output_type": "execute_result"
    }
   ],
   "source": [
    "df.head()"
   ]
  },
  {
   "cell_type": "code",
   "execution_count": 52,
   "metadata": {},
   "outputs": [],
   "source": [
    "df['side'].replace({'L': 'R14-M1', 'R': 'R14-M2'}, inplace=True)"
   ]
  },
  {
   "cell_type": "code",
   "execution_count": 53,
   "metadata": {},
   "outputs": [],
   "source": [
    "# only for partner paradigms\n",
    "#df['side'] = 'R10-F1'"
   ]
  },
  {
   "cell_type": "code",
   "execution_count": 54,
   "metadata": {},
   "outputs": [
    {
     "data": {
      "text/html": [
       "<div>\n",
       "<style scoped>\n",
       "    .dataframe tbody tr th:only-of-type {\n",
       "        vertical-align: middle;\n",
       "    }\n",
       "\n",
       "    .dataframe tbody tr th {\n",
       "        vertical-align: top;\n",
       "    }\n",
       "\n",
       "    .dataframe thead th {\n",
       "        text-align: right;\n",
       "    }\n",
       "</style>\n",
       "<table border=\"1\" class=\"dataframe\">\n",
       "  <thead>\n",
       "    <tr style=\"text-align: right;\">\n",
       "      <th></th>\n",
       "      <th>Event_id</th>\n",
       "      <th>Rec_id</th>\n",
       "      <th>event</th>\n",
       "      <th>start_time</th>\n",
       "      <th>end_time</th>\n",
       "      <th>Stimulus_id</th>\n",
       "      <th>side</th>\n",
       "    </tr>\n",
       "  </thead>\n",
       "  <tbody>\n",
       "    <tr>\n",
       "      <th>0</th>\n",
       "      <td>42638</td>\n",
       "      <td>99002</td>\n",
       "      <td>whisker overlap</td>\n",
       "      <td>3377957.10</td>\n",
       "      <td>3385890.40</td>\n",
       "      <td>3528</td>\n",
       "      <td>R14-M1</td>\n",
       "    </tr>\n",
       "    <tr>\n",
       "      <th>1</th>\n",
       "      <td>42639</td>\n",
       "      <td>99002</td>\n",
       "      <td>whisker overlap</td>\n",
       "      <td>3386557.10</td>\n",
       "      <td>3395557.10</td>\n",
       "      <td>3528</td>\n",
       "      <td>R14-M1</td>\n",
       "    </tr>\n",
       "    <tr>\n",
       "      <th>2</th>\n",
       "      <td>42640</td>\n",
       "      <td>99002</td>\n",
       "      <td>whisker overlap</td>\n",
       "      <td>3396957.10</td>\n",
       "      <td>3406990.40</td>\n",
       "      <td>3528</td>\n",
       "      <td>R14-M1</td>\n",
       "    </tr>\n",
       "    <tr>\n",
       "      <th>3</th>\n",
       "      <td>42641</td>\n",
       "      <td>99002</td>\n",
       "      <td>whisker overlap</td>\n",
       "      <td>3411490.40</td>\n",
       "      <td>3412257.10</td>\n",
       "      <td>3528</td>\n",
       "      <td>R14-M1</td>\n",
       "    </tr>\n",
       "    <tr>\n",
       "      <th>4</th>\n",
       "      <td>42642</td>\n",
       "      <td>99002</td>\n",
       "      <td>whisker overlap</td>\n",
       "      <td>3429357.10</td>\n",
       "      <td>3430090.40</td>\n",
       "      <td>3528</td>\n",
       "      <td>R14-M1</td>\n",
       "    </tr>\n",
       "  </tbody>\n",
       "</table>\n",
       "</div>"
      ],
      "text/plain": [
       "   Event_id  Rec_id            event  start_time    end_time  Stimulus_id  \\\n",
       "0     42638   99002  whisker overlap  3377957.10  3385890.40         3528   \n",
       "1     42639   99002  whisker overlap  3386557.10  3395557.10         3528   \n",
       "2     42640   99002  whisker overlap  3396957.10  3406990.40         3528   \n",
       "3     42641   99002  whisker overlap  3411490.40  3412257.10         3528   \n",
       "4     42642   99002  whisker overlap  3429357.10  3430090.40         3528   \n",
       "\n",
       "     side  \n",
       "0  R14-M1  \n",
       "1  R14-M1  \n",
       "2  R14-M1  \n",
       "3  R14-M1  \n",
       "4  R14-M1  "
      ]
     },
     "execution_count": 54,
     "metadata": {},
     "output_type": "execute_result"
    }
   ],
   "source": [
    "df.head()"
   ]
  },
  {
   "cell_type": "code",
   "execution_count": 55,
   "metadata": {},
   "outputs": [],
   "source": [
    "df.to_csv('cleaned_events_99002.csv')"
   ]
  },
  {
   "cell_type": "code",
   "execution_count": null,
   "metadata": {},
   "outputs": [],
   "source": []
  },
  {
   "cell_type": "code",
   "execution_count": null,
   "metadata": {},
   "outputs": [],
   "source": []
  }
 ],
 "metadata": {
  "kernelspec": {
   "display_name": "Python 3",
   "language": "python",
   "name": "python3"
  },
  "language_info": {
   "codemirror_mode": {
    "name": "ipython",
    "version": 3
   },
   "file_extension": ".py",
   "mimetype": "text/x-python",
   "name": "python",
   "nbconvert_exporter": "python",
   "pygments_lexer": "ipython3",
   "version": "3.7.6"
  }
 },
 "nbformat": 4,
 "nbformat_minor": 4
}
